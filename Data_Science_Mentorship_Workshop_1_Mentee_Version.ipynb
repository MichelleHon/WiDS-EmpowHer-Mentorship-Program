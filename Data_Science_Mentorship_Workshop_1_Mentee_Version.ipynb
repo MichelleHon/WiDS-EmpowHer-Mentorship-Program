{
  "nbformat": 4,
  "nbformat_minor": 0,
  "metadata": {
    "colab": {
      "provenance": [],
      "authorship_tag": "ABX9TyNDt4/s05UDPmyLsWF96U4U",
      "include_colab_link": true
    },
    "kernelspec": {
      "name": "python3",
      "display_name": "Python 3"
    },
    "language_info": {
      "name": "python"
    }
  },
  "cells": [
    {
      "cell_type": "markdown",
      "metadata": {
        "id": "view-in-github",
        "colab_type": "text"
      },
      "source": [
        "<a href=\"https://colab.research.google.com/github/MichelleHon/WiDS-EmpowHer-Mentorship-Program/blob/main/Data_Science_Mentorship_Workshop_1_Mentee_Version.ipynb\" target=\"_parent\"><img src=\"https://colab.research.google.com/assets/colab-badge.svg\" alt=\"Open In Colab\"/></a>"
      ]
    },
    {
      "cell_type": "markdown",
      "source": [
        "# Workshop 1: Introduction to Data Science"
      ],
      "metadata": {
        "id": "6T-J-zOsqugl"
      }
    },
    {
      "cell_type": "markdown",
      "source": [
        "### Learning Goals\n",
        "*   Define data science and identify key applications of data science.\n",
        "*   Demonstrate **dataset scrapping**.\n",
        "*   Develop practical skills in applying **data cleaning and wrangling** techniques.\n",
        "*   Design appropriate **visualizations** to answer question at hand."
      ],
      "metadata": {
        "id": "p4NDdIfAsEaN"
      }
    },
    {
      "cell_type": "markdown",
      "source": [
        "#### Applications of Data Science\n",
        "Some examples include:\n",
        "*   **Healthcare**: Analyzing patient data to improve diagnostics and treatment plans\n",
        "*   **Finance**: Detecting fraud, assessing risk, and optimizing investment strategies\n",
        "*   **Marketing**: Personalizing campaigns by analyzing customer behavior and preferences"
      ],
      "metadata": {
        "id": "YkauoQXTz78B"
      }
    },
    {
      "cell_type": "markdown",
      "source": [
        "#### Key Components of Data Science\n",
        "1. **Data Collection**: Gathering data from sources such as databases, APIs, and web scraping\n",
        "2. **Data Cleaning and Wrangling**: Preparing data for analysis by handling missing values, duplicates, and inconsistencies\n",
        "3. **Data Analysis**: Using statistical methods and algorithms to find patterns and trends in the data\n",
        "4. **Data Visualization**: Creating charts and graphs to represent data insights clearly and effectively\n",
        "5. **Machine Learning**: Applying algorithms to build predictive models that automate decision-making"
      ],
      "metadata": {
        "id": "nMCe8L8vuQOl"
      }
    },
    {
      "cell_type": "markdown",
      "source": [
        "#### Types of Plots\n",
        "*  **Scatterplots**: Visualize relationship between 2 quantitative variables\n",
        "*  **Barplots**: Visualize comparisons of amounts\n",
        "*  **Histograms**: Visualize the distribution of 1 quantitative variable\n",
        "\n",
        "##### Characteristics of Scatterplots\n",
        "*  **Direction**: Positive relationship: When the y variable tends to increase when the x variable increases. Vice versa for negative relationship.  \n",
        "*  **Strength**: Strong relationship: When the y variable reliably increases/decreases/stays flat as the x variable increases. Weak relationship otherwise.\n",
        "*  **Shape**: Either linear or non-linear\n",
        "\n",
        "##### Characteristics of Histogram\n",
        "*  **Shape**: Symmetric or Skewed. If the tail is on the left, the data points are more concentrated on the right and the histogram is left/negatively skewed\n",
        "*  **Center**: Where do most data points fall? (peak) Where is the mean/median? How many peaks does the histogram have? Unimodal/bimodal/multimodal? (mode)\n",
        "*  **Spread**: What is the range of the data points? Are there any data points that are far away from the rest of the data? (outliers)\n",
        "\n",
        "**Rule of Thumb: No pie charts, 3-D visualizations and Tables**\n",
        "\n",
        "Other important notes:\n",
        "*  Use simple, colorblind-friendly color palettes\n",
        "\n",
        "Use this link to learn more about colorblind-friendly color palettes:\n",
        "https://www.color-blindness.com/coblis-color-blindness-simulator/\n",
        "*  Include labels and legends\n",
        "*  Avoid overplotting\n",
        "\n",
        "The visualization should **convey its message and minimize noise**"
      ],
      "metadata": {
        "id": "Nau5N7JFpWe-"
      }
    },
    {
      "cell_type": "markdown",
      "source": [
        "#### Tidy Data\n",
        "*  Each row corresponds to a single observation\n",
        "*  Each column corresponds to a single variable\n",
        "*  Each cell corresponds to a single value\n"
      ],
      "metadata": {
        "id": "wuJKlm5v1ba3"
      }
    },
    {
      "cell_type": "markdown",
      "source": [
        "## Top 50 Songs on Spotify in 2023\n",
        " Let's explore the dataset together\n",
        "\n",
        " 1. Data Collection\n",
        "\n",
        " You may see the dataset in files called \"spotify_top_50_2023.csv\". This dataset is obtained from the Spotify Web API.\n",
        "\n",
        " Let's load the data and check it out."
      ],
      "metadata": {
        "id": "xCbOAV2ZWbxH"
      }
    },
    {
      "cell_type": "code",
      "source": [
        "# Run this cell to import package\n",
        "import pandas as pd"
      ],
      "metadata": {
        "id": "EA4EmqmXX7Uc"
      },
      "execution_count": null,
      "outputs": []
    },
    {
      "cell_type": "code",
      "source": [
        "# spotify_raw = ...(\"spotify_top_50_2023.csv\")\n",
        "# spotify_raw.head()\n",
        "\n",
        "# Answer here\n"
      ],
      "metadata": {
        "colab": {
          "base_uri": "https://localhost:8080/",
          "height": 345
        },
        "id": "ixvam_F-XbB5",
        "outputId": "500588b6-5dfd-48b4-b982-09f64647726e"
      },
      "execution_count": null,
      "outputs": [
        {
          "output_type": "execute_result",
          "data": {
            "text/plain": [
              "      artist_name                           track_name album_release_date  \\\n",
              "0     Miley Cyrus                              Flowers         2023-08-18   \n",
              "1             SZA                            Kill Bill         2022-12-08   \n",
              "2    Harry Styles                            As It Was         2022-05-20   \n",
              "3       Jung Kook  Seven (feat. Latto) (Explicit Ver.)         2023-11-03   \n",
              "4  Eslabon Armado                      Ella Baila Sola         2023-04-28   \n",
              "\n",
              "                                              genres  danceability  energy  \\\n",
              "0                                            ['pop']         0.706   0.691   \n",
              "1                              ['pop', 'r&b', 'rap']         0.644   0.735   \n",
              "2                                            ['pop']         0.520   0.731   \n",
              "3                                          ['k-pop']         0.790   0.831   \n",
              "4  ['corrido', 'corridos tumbados', 'sad sierreno...         0.668   0.758   \n",
              "\n",
              "   loudness  key    tempo  duration_ms  time_signature  popularity  \n",
              "0    -4.775    0  118.048       200600               4          94  \n",
              "1    -5.747    8   88.980       153947               4          86  \n",
              "2    -5.338    6  173.930       167303               4          95  \n",
              "3    -4.185   11  124.987       183551               4          90  \n",
              "4    -5.176    5  147.989       165671               3          86  "
            ],
            "text/html": [
              "\n",
              "  <div id=\"df-d73ab7fc-7ce2-4013-87c5-74de57869a4a\" class=\"colab-df-container\">\n",
              "    <div>\n",
              "<style scoped>\n",
              "    .dataframe tbody tr th:only-of-type {\n",
              "        vertical-align: middle;\n",
              "    }\n",
              "\n",
              "    .dataframe tbody tr th {\n",
              "        vertical-align: top;\n",
              "    }\n",
              "\n",
              "    .dataframe thead th {\n",
              "        text-align: right;\n",
              "    }\n",
              "</style>\n",
              "<table border=\"1\" class=\"dataframe\">\n",
              "  <thead>\n",
              "    <tr style=\"text-align: right;\">\n",
              "      <th></th>\n",
              "      <th>artist_name</th>\n",
              "      <th>track_name</th>\n",
              "      <th>album_release_date</th>\n",
              "      <th>genres</th>\n",
              "      <th>danceability</th>\n",
              "      <th>energy</th>\n",
              "      <th>loudness</th>\n",
              "      <th>key</th>\n",
              "      <th>tempo</th>\n",
              "      <th>duration_ms</th>\n",
              "      <th>time_signature</th>\n",
              "      <th>popularity</th>\n",
              "    </tr>\n",
              "  </thead>\n",
              "  <tbody>\n",
              "    <tr>\n",
              "      <th>0</th>\n",
              "      <td>Miley Cyrus</td>\n",
              "      <td>Flowers</td>\n",
              "      <td>2023-08-18</td>\n",
              "      <td>['pop']</td>\n",
              "      <td>0.706</td>\n",
              "      <td>0.691</td>\n",
              "      <td>-4.775</td>\n",
              "      <td>0</td>\n",
              "      <td>118.048</td>\n",
              "      <td>200600</td>\n",
              "      <td>4</td>\n",
              "      <td>94</td>\n",
              "    </tr>\n",
              "    <tr>\n",
              "      <th>1</th>\n",
              "      <td>SZA</td>\n",
              "      <td>Kill Bill</td>\n",
              "      <td>2022-12-08</td>\n",
              "      <td>['pop', 'r&amp;b', 'rap']</td>\n",
              "      <td>0.644</td>\n",
              "      <td>0.735</td>\n",
              "      <td>-5.747</td>\n",
              "      <td>8</td>\n",
              "      <td>88.980</td>\n",
              "      <td>153947</td>\n",
              "      <td>4</td>\n",
              "      <td>86</td>\n",
              "    </tr>\n",
              "    <tr>\n",
              "      <th>2</th>\n",
              "      <td>Harry Styles</td>\n",
              "      <td>As It Was</td>\n",
              "      <td>2022-05-20</td>\n",
              "      <td>['pop']</td>\n",
              "      <td>0.520</td>\n",
              "      <td>0.731</td>\n",
              "      <td>-5.338</td>\n",
              "      <td>6</td>\n",
              "      <td>173.930</td>\n",
              "      <td>167303</td>\n",
              "      <td>4</td>\n",
              "      <td>95</td>\n",
              "    </tr>\n",
              "    <tr>\n",
              "      <th>3</th>\n",
              "      <td>Jung Kook</td>\n",
              "      <td>Seven (feat. Latto) (Explicit Ver.)</td>\n",
              "      <td>2023-11-03</td>\n",
              "      <td>['k-pop']</td>\n",
              "      <td>0.790</td>\n",
              "      <td>0.831</td>\n",
              "      <td>-4.185</td>\n",
              "      <td>11</td>\n",
              "      <td>124.987</td>\n",
              "      <td>183551</td>\n",
              "      <td>4</td>\n",
              "      <td>90</td>\n",
              "    </tr>\n",
              "    <tr>\n",
              "      <th>4</th>\n",
              "      <td>Eslabon Armado</td>\n",
              "      <td>Ella Baila Sola</td>\n",
              "      <td>2023-04-28</td>\n",
              "      <td>['corrido', 'corridos tumbados', 'sad sierreno...</td>\n",
              "      <td>0.668</td>\n",
              "      <td>0.758</td>\n",
              "      <td>-5.176</td>\n",
              "      <td>5</td>\n",
              "      <td>147.989</td>\n",
              "      <td>165671</td>\n",
              "      <td>3</td>\n",
              "      <td>86</td>\n",
              "    </tr>\n",
              "  </tbody>\n",
              "</table>\n",
              "</div>\n",
              "    <div class=\"colab-df-buttons\">\n",
              "\n",
              "  <div class=\"colab-df-container\">\n",
              "    <button class=\"colab-df-convert\" onclick=\"convertToInteractive('df-d73ab7fc-7ce2-4013-87c5-74de57869a4a')\"\n",
              "            title=\"Convert this dataframe to an interactive table.\"\n",
              "            style=\"display:none;\">\n",
              "\n",
              "  <svg xmlns=\"http://www.w3.org/2000/svg\" height=\"24px\" viewBox=\"0 -960 960 960\">\n",
              "    <path d=\"M120-120v-720h720v720H120Zm60-500h600v-160H180v160Zm220 220h160v-160H400v160Zm0 220h160v-160H400v160ZM180-400h160v-160H180v160Zm440 0h160v-160H620v160ZM180-180h160v-160H180v160Zm440 0h160v-160H620v160Z\"/>\n",
              "  </svg>\n",
              "    </button>\n",
              "\n",
              "  <style>\n",
              "    .colab-df-container {\n",
              "      display:flex;\n",
              "      gap: 12px;\n",
              "    }\n",
              "\n",
              "    .colab-df-convert {\n",
              "      background-color: #E8F0FE;\n",
              "      border: none;\n",
              "      border-radius: 50%;\n",
              "      cursor: pointer;\n",
              "      display: none;\n",
              "      fill: #1967D2;\n",
              "      height: 32px;\n",
              "      padding: 0 0 0 0;\n",
              "      width: 32px;\n",
              "    }\n",
              "\n",
              "    .colab-df-convert:hover {\n",
              "      background-color: #E2EBFA;\n",
              "      box-shadow: 0px 1px 2px rgba(60, 64, 67, 0.3), 0px 1px 3px 1px rgba(60, 64, 67, 0.15);\n",
              "      fill: #174EA6;\n",
              "    }\n",
              "\n",
              "    .colab-df-buttons div {\n",
              "      margin-bottom: 4px;\n",
              "    }\n",
              "\n",
              "    [theme=dark] .colab-df-convert {\n",
              "      background-color: #3B4455;\n",
              "      fill: #D2E3FC;\n",
              "    }\n",
              "\n",
              "    [theme=dark] .colab-df-convert:hover {\n",
              "      background-color: #434B5C;\n",
              "      box-shadow: 0px 1px 3px 1px rgba(0, 0, 0, 0.15);\n",
              "      filter: drop-shadow(0px 1px 2px rgba(0, 0, 0, 0.3));\n",
              "      fill: #FFFFFF;\n",
              "    }\n",
              "  </style>\n",
              "\n",
              "    <script>\n",
              "      const buttonEl =\n",
              "        document.querySelector('#df-d73ab7fc-7ce2-4013-87c5-74de57869a4a button.colab-df-convert');\n",
              "      buttonEl.style.display =\n",
              "        google.colab.kernel.accessAllowed ? 'block' : 'none';\n",
              "\n",
              "      async function convertToInteractive(key) {\n",
              "        const element = document.querySelector('#df-d73ab7fc-7ce2-4013-87c5-74de57869a4a');\n",
              "        const dataTable =\n",
              "          await google.colab.kernel.invokeFunction('convertToInteractive',\n",
              "                                                    [key], {});\n",
              "        if (!dataTable) return;\n",
              "\n",
              "        const docLinkHtml = 'Like what you see? Visit the ' +\n",
              "          '<a target=\"_blank\" href=https://colab.research.google.com/notebooks/data_table.ipynb>data table notebook</a>'\n",
              "          + ' to learn more about interactive tables.';\n",
              "        element.innerHTML = '';\n",
              "        dataTable['output_type'] = 'display_data';\n",
              "        await google.colab.output.renderOutput(dataTable, element);\n",
              "        const docLink = document.createElement('div');\n",
              "        docLink.innerHTML = docLinkHtml;\n",
              "        element.appendChild(docLink);\n",
              "      }\n",
              "    </script>\n",
              "  </div>\n",
              "\n",
              "\n",
              "<div id=\"df-a19255d6-ab15-4095-810e-5fa60bdf21a8\">\n",
              "  <button class=\"colab-df-quickchart\" onclick=\"quickchart('df-a19255d6-ab15-4095-810e-5fa60bdf21a8')\"\n",
              "            title=\"Suggest charts\"\n",
              "            style=\"display:none;\">\n",
              "\n",
              "<svg xmlns=\"http://www.w3.org/2000/svg\" height=\"24px\"viewBox=\"0 0 24 24\"\n",
              "     width=\"24px\">\n",
              "    <g>\n",
              "        <path d=\"M19 3H5c-1.1 0-2 .9-2 2v14c0 1.1.9 2 2 2h14c1.1 0 2-.9 2-2V5c0-1.1-.9-2-2-2zM9 17H7v-7h2v7zm4 0h-2V7h2v10zm4 0h-2v-4h2v4z\"/>\n",
              "    </g>\n",
              "</svg>\n",
              "  </button>\n",
              "\n",
              "<style>\n",
              "  .colab-df-quickchart {\n",
              "      --bg-color: #E8F0FE;\n",
              "      --fill-color: #1967D2;\n",
              "      --hover-bg-color: #E2EBFA;\n",
              "      --hover-fill-color: #174EA6;\n",
              "      --disabled-fill-color: #AAA;\n",
              "      --disabled-bg-color: #DDD;\n",
              "  }\n",
              "\n",
              "  [theme=dark] .colab-df-quickchart {\n",
              "      --bg-color: #3B4455;\n",
              "      --fill-color: #D2E3FC;\n",
              "      --hover-bg-color: #434B5C;\n",
              "      --hover-fill-color: #FFFFFF;\n",
              "      --disabled-bg-color: #3B4455;\n",
              "      --disabled-fill-color: #666;\n",
              "  }\n",
              "\n",
              "  .colab-df-quickchart {\n",
              "    background-color: var(--bg-color);\n",
              "    border: none;\n",
              "    border-radius: 50%;\n",
              "    cursor: pointer;\n",
              "    display: none;\n",
              "    fill: var(--fill-color);\n",
              "    height: 32px;\n",
              "    padding: 0;\n",
              "    width: 32px;\n",
              "  }\n",
              "\n",
              "  .colab-df-quickchart:hover {\n",
              "    background-color: var(--hover-bg-color);\n",
              "    box-shadow: 0 1px 2px rgba(60, 64, 67, 0.3), 0 1px 3px 1px rgba(60, 64, 67, 0.15);\n",
              "    fill: var(--button-hover-fill-color);\n",
              "  }\n",
              "\n",
              "  .colab-df-quickchart-complete:disabled,\n",
              "  .colab-df-quickchart-complete:disabled:hover {\n",
              "    background-color: var(--disabled-bg-color);\n",
              "    fill: var(--disabled-fill-color);\n",
              "    box-shadow: none;\n",
              "  }\n",
              "\n",
              "  .colab-df-spinner {\n",
              "    border: 2px solid var(--fill-color);\n",
              "    border-color: transparent;\n",
              "    border-bottom-color: var(--fill-color);\n",
              "    animation:\n",
              "      spin 1s steps(1) infinite;\n",
              "  }\n",
              "\n",
              "  @keyframes spin {\n",
              "    0% {\n",
              "      border-color: transparent;\n",
              "      border-bottom-color: var(--fill-color);\n",
              "      border-left-color: var(--fill-color);\n",
              "    }\n",
              "    20% {\n",
              "      border-color: transparent;\n",
              "      border-left-color: var(--fill-color);\n",
              "      border-top-color: var(--fill-color);\n",
              "    }\n",
              "    30% {\n",
              "      border-color: transparent;\n",
              "      border-left-color: var(--fill-color);\n",
              "      border-top-color: var(--fill-color);\n",
              "      border-right-color: var(--fill-color);\n",
              "    }\n",
              "    40% {\n",
              "      border-color: transparent;\n",
              "      border-right-color: var(--fill-color);\n",
              "      border-top-color: var(--fill-color);\n",
              "    }\n",
              "    60% {\n",
              "      border-color: transparent;\n",
              "      border-right-color: var(--fill-color);\n",
              "    }\n",
              "    80% {\n",
              "      border-color: transparent;\n",
              "      border-right-color: var(--fill-color);\n",
              "      border-bottom-color: var(--fill-color);\n",
              "    }\n",
              "    90% {\n",
              "      border-color: transparent;\n",
              "      border-bottom-color: var(--fill-color);\n",
              "    }\n",
              "  }\n",
              "</style>\n",
              "\n",
              "  <script>\n",
              "    async function quickchart(key) {\n",
              "      const quickchartButtonEl =\n",
              "        document.querySelector('#' + key + ' button');\n",
              "      quickchartButtonEl.disabled = true;  // To prevent multiple clicks.\n",
              "      quickchartButtonEl.classList.add('colab-df-spinner');\n",
              "      try {\n",
              "        const charts = await google.colab.kernel.invokeFunction(\n",
              "            'suggestCharts', [key], {});\n",
              "      } catch (error) {\n",
              "        console.error('Error during call to suggestCharts:', error);\n",
              "      }\n",
              "      quickchartButtonEl.classList.remove('colab-df-spinner');\n",
              "      quickchartButtonEl.classList.add('colab-df-quickchart-complete');\n",
              "    }\n",
              "    (() => {\n",
              "      let quickchartButtonEl =\n",
              "        document.querySelector('#df-a19255d6-ab15-4095-810e-5fa60bdf21a8 button');\n",
              "      quickchartButtonEl.style.display =\n",
              "        google.colab.kernel.accessAllowed ? 'block' : 'none';\n",
              "    })();\n",
              "  </script>\n",
              "</div>\n",
              "\n",
              "    </div>\n",
              "  </div>\n"
            ],
            "application/vnd.google.colaboratory.intrinsic+json": {
              "type": "dataframe",
              "variable_name": "spotify_raw",
              "summary": "{\n  \"name\": \"spotify_raw\",\n  \"rows\": 50,\n  \"fields\": [\n    {\n      \"column\": \"artist_name\",\n      \"properties\": {\n        \"dtype\": \"string\",\n        \"num_unique_values\": 41,\n        \"samples\": [\n          \"Morgan Wallen\",\n          \"The Weeknd\",\n          \"Bizarrap\"\n        ],\n        \"semantic_type\": \"\",\n        \"description\": \"\"\n      }\n    },\n    {\n      \"column\": \"track_name\",\n      \"properties\": {\n        \"dtype\": \"string\",\n        \"num_unique_values\": 50,\n        \"samples\": [\n          \"I'm Good (Blue)\",\n          \"WHERE SHE GOES\",\n          \"LALA\"\n        ],\n        \"semantic_type\": \"\",\n        \"description\": \"\"\n      }\n    },\n    {\n      \"column\": \"album_release_date\",\n      \"properties\": {\n        \"dtype\": \"object\",\n        \"num_unique_values\": 49,\n        \"samples\": [\n          \"2022-08-26\",\n          \"2022-05-06\",\n          \"2023-06-30\"\n        ],\n        \"semantic_type\": \"\",\n        \"description\": \"\"\n      }\n    },\n    {\n      \"column\": \"genres\",\n      \"properties\": {\n        \"dtype\": \"string\",\n        \"num_unique_values\": 35,\n        \"samples\": [\n          \"['colombian pop', 'pop reggaeton', 'reggaeton', 'reggaeton colombiano', 'trap latino', 'urbano latino']\",\n          \"['pop', 'uk pop']\",\n          \"['reggaeton', 'trap latino', 'urbano latino']\"\n        ],\n        \"semantic_type\": \"\",\n        \"description\": \"\"\n      }\n    },\n    {\n      \"column\": \"danceability\",\n      \"properties\": {\n        \"dtype\": \"number\",\n        \"std\": 0.12308949622787747,\n        \"min\": 0.445,\n        \"max\": 0.911,\n        \"num_unique_values\": 46,\n        \"samples\": [\n          0.538,\n          0.492,\n          0.515\n        ],\n        \"semantic_type\": \"\",\n        \"description\": \"\"\n      }\n    },\n    {\n      \"column\": \"energy\",\n      \"properties\": {\n        \"dtype\": \"number\",\n        \"std\": 0.12149924665929213,\n        \"min\": 0.417,\n        \"max\": 0.965,\n        \"num_unique_values\": 48,\n        \"samples\": [\n          0.675,\n          0.733,\n          0.458\n        ],\n        \"semantic_type\": \"\",\n        \"description\": \"\"\n      }\n    },\n    {\n      \"column\": \"loudness\",\n      \"properties\": {\n        \"dtype\": \"number\",\n        \"std\": 1.7844430807877927,\n        \"min\": -10.613,\n        \"max\": -2.81,\n        \"num_unique_values\": 50,\n        \"samples\": [\n          -3.673,\n          -4.02,\n          -4.045\n        ],\n        \"semantic_type\": \"\",\n        \"description\": \"\"\n      }\n    },\n    {\n      \"column\": \"key\",\n      \"properties\": {\n        \"dtype\": \"number\",\n        \"std\": 3,\n        \"min\": 0,\n        \"max\": 11,\n        \"num_unique_values\": 11,\n        \"samples\": [\n          9,\n          0,\n          7\n        ],\n        \"semantic_type\": \"\",\n        \"description\": \"\"\n      }\n    },\n    {\n      \"column\": \"tempo\",\n      \"properties\": {\n        \"dtype\": \"number\",\n        \"std\": 31.396556999753578,\n        \"min\": 67.033,\n        \"max\": 203.759,\n        \"num_unique_values\": 50,\n        \"samples\": [\n          128.04,\n          143.992,\n          91.986\n        ],\n        \"semantic_type\": \"\",\n        \"description\": \"\"\n      }\n    },\n    {\n      \"column\": \"duration_ms\",\n      \"properties\": {\n        \"dtype\": \"number\",\n        \"std\": 32580,\n        \"min\": 131013,\n        \"max\": 272373,\n        \"num_unique_values\": 50,\n        \"samples\": [\n          175238,\n          231704,\n          197920\n        ],\n        \"semantic_type\": \"\",\n        \"description\": \"\"\n      }\n    },\n    {\n      \"column\": \"time_signature\",\n      \"properties\": {\n        \"dtype\": \"number\",\n        \"std\": 0,\n        \"min\": 3,\n        \"max\": 4,\n        \"num_unique_values\": 2,\n        \"samples\": [\n          3,\n          4\n        ],\n        \"semantic_type\": \"\",\n        \"description\": \"\"\n      }\n    },\n    {\n      \"column\": \"popularity\",\n      \"properties\": {\n        \"dtype\": \"number\",\n        \"std\": 5,\n        \"min\": 72,\n        \"max\": 99,\n        \"num_unique_values\": 21,\n        \"samples\": [\n          94,\n          78\n        ],\n        \"semantic_type\": \"\",\n        \"description\": \"\"\n      }\n    }\n  ]\n}"
            }
          },
          "metadata": {},
          "execution_count": 18
        }
      ]
    },
    {
      "cell_type": "markdown",
      "source": [
        "This dataset is mostly tidy. Each row corresponds to a single observation and each column corresponds to a single variable. However, in the genres column, we can see that there are multiple genres per song, which means that some cells in the genre column does not only correspond to a single value.\n",
        "\n",
        "2. Data Cleaning and Wrangling\n",
        "\n",
        "Let's compare the number of pop songs versus non-pop songs in the dataset. We will use a barplot since we are trying to visualize comparisons of amounts."
      ],
      "metadata": {
        "id": "LY5buwPaa0AW"
      }
    },
    {
      "cell_type": "code",
      "source": [
        "# Uncomment and run this cell\n",
        "\n",
        "# spotify_pop = spotify_raw[\"genres\"] == \"pop\"\n",
        "# spotify_pop.head()"
      ],
      "metadata": {
        "id": "Lmxuf047fT7t"
      },
      "execution_count": null,
      "outputs": []
    },
    {
      "cell_type": "code",
      "source": [
        "# Uncomment and run this cell\n",
        "\n",
        "# spotify_raw[\"pop\"] = spotify_pop\n",
        "# spotify_raw.head()"
      ],
      "metadata": {
        "id": "AB8gT7tIlsUq"
      },
      "execution_count": null,
      "outputs": []
    },
    {
      "cell_type": "markdown",
      "source": [
        "3. Data visualization"
      ],
      "metadata": {
        "id": "jcrgc2JHqEB_"
      }
    },
    {
      "cell_type": "code",
      "source": [
        "# Run this cell to import packages\n",
        "import altair as alt\n",
        "import matplotlib.pyplot as plt"
      ],
      "metadata": {
        "id": "_y43ZZlWgIX8"
      },
      "execution_count": null,
      "outputs": []
    },
    {
      "cell_type": "code",
      "source": [
        "plt.rcParams['figure.figsize'] = (10, 8)\n",
        "\n",
        "# spotify_barplot = alt.Chart(...,\n",
        "#                             title = \"Barplot of Pop vs Non-Pop Songs\"\n",
        "#                             )...(\n",
        "#                                 x = alt.X(\"pop\").title(\"Pop\"),\n",
        "#                                 y = alt.Y(\"count()\").title(\"Count\"),\n",
        "#                                 )\n",
        "# ...\n",
        "\n",
        "# Answer below\n"
      ],
      "metadata": {
        "id": "GxR3EBgom17M"
      },
      "execution_count": null,
      "outputs": []
    },
    {
      "cell_type": "markdown",
      "source": [
        "Awesome! Let's try answering this question: Is there a relationship between how loud a song is in decibels and its popularity? Since we are trying to answer a question regarding the relationship between 2 quantitative variables, we should use scatterplot to visualize it."
      ],
      "metadata": {
        "id": "p3ii0sw7qcom"
      }
    },
    {
      "cell_type": "code",
      "source": [
        "plt.rcParams['figure.figsize'] = (10, 8)\n",
        "\n",
        "# Uncomment the following\n",
        "# pop_min, pop_max = spotify_raw[\"popularity\"].min(), spotify_raw[\"popularity\"].max()\n",
        "# loud_min, loud_max = spotify_raw[\"loudness\"].min(), spotify_raw[\"loudness\"].max()\n",
        "\n",
        "# pop_range = pop_max - pop_min\n",
        "# loud_range = loud_max - loud_min\n",
        "\n",
        "# pop_padding = pop_range * 0.1\n",
        "# loud_padding = loud_range * 0.1\n",
        "\n",
        "\n",
        "# Scaffolding for use\n",
        "# spotify_scatterplot = alt.Chart(...,\n",
        "#                             title = \"Scatterplot of Loudness vs Popularity\"\n",
        "#                             )...(\n",
        "#                                 x = alt.X(\"popularity\").title(\"Popularity Score\")\n",
        "#                                 .scale(domain=[pop_min - pop_padding, pop_max + pop_padding]),\n",
        "#                                 y = alt.Y(\"loudness\").title(\"Loudness (dB)\")\n",
        "#                                 .scale(domain=[loud_min - loud_padding, loud_max + loud_padding]),\n",
        "#                                 )\n",
        "# ...\n",
        "\n",
        "# Answer here\n"
      ],
      "metadata": {
        "id": "AQFKRI54rd3O"
      },
      "execution_count": null,
      "outputs": []
    },
    {
      "cell_type": "markdown",
      "source": [
        "There seem to be a relatively weak positive relationship between loudness and popularity score."
      ],
      "metadata": {
        "id": "tcLT6csIsjaG"
      }
    },
    {
      "cell_type": "code",
      "source": [
        "# Uncomment and run this cell\n",
        "\n",
        "# plt.rcParams['figure.figsize'] = (10, 8)\n",
        "\n",
        "# spotify_scatterplot_2 = alt.Chart(spotify_raw,\n",
        "#                             title = \"Scatterplot of Loudness vs Popularity\"\n",
        "#                             ).mark_circle().encode(\n",
        "#                                 x = alt.X(\"popularity\").title(\"Popularity Score\"),\n",
        "#                                 y = alt.Y(\"loudness\").title(\"Loudness (dB)\"),\n",
        "#                                 )\n",
        "# spotify_scatterplot_2"
      ],
      "metadata": {
        "id": "JOlPB27au7Y-"
      },
      "execution_count": null,
      "outputs": []
    },
    {
      "cell_type": "markdown",
      "source": [
        "## Your Turn!\n",
        "\n",
        "Explore the dataset \"insta.csv\" and answer the question: What is the distribution of engagement rate of the top 200 followed accounts on Instagram?\n",
        "\n",
        "1. Data Collection\n",
        "\n",
        "Load the data and check it out."
      ],
      "metadata": {
        "id": "QoA0hpi5vT8J"
      }
    },
    {
      "cell_type": "code",
      "source": [
        "# insta_raw = ...(\"...\")\n",
        "# insta_raw\n",
        "\n",
        "# Answer here\n"
      ],
      "metadata": {
        "id": "WbkBcwSm7lCL"
      },
      "execution_count": null,
      "outputs": []
    },
    {
      "cell_type": "markdown",
      "source": [
        "2. Data Cleaning and Wrangling\n",
        "\n",
        "Is the dataset tidy? What information do we need to answer the question? Do they need wrangling?"
      ],
      "metadata": {
        "id": "alAOKf5T-pV_"
      }
    },
    {
      "cell_type": "code",
      "source": [
        "# insta_raw['Eng Rate'] = insta_raw['...'].replace('%', '', regex=True).astype(float) / 100\n",
        "# insta_raw = insta_raw.sort_values('...')\n",
        "# ...\n",
        "\n",
        "# Answer here\n"
      ],
      "metadata": {
        "id": "0M2ipLQ3AcDc"
      },
      "execution_count": null,
      "outputs": []
    },
    {
      "cell_type": "markdown",
      "source": [
        "3. Data Visualization"
      ],
      "metadata": {
        "id": "DaebRe9BEWHM"
      }
    },
    {
      "cell_type": "code",
      "source": [
        "plt.rcParams['figure.figsize'] = (10, 8)\n",
        "# insta_histogram = alt.Chart(...,\n",
        "#                             title = \"Histogram of Engagement Rate\"\n",
        "#                             )...(\n",
        "#                                 x = alt.X(\"...\").title(\"Engagement Rate (%)\").bin(),\n",
        "#                                 y = alt.Y(\"...\").title(\"Count\"),\n",
        "#                                 )\n",
        "# insta_histogram\n",
        "\n",
        "# Answer here\n"
      ],
      "metadata": {
        "id": "g-X1raIN-7wj"
      },
      "execution_count": null,
      "outputs": []
    },
    {
      "cell_type": "markdown",
      "source": [
        "What can you conclude based on the histogram?"
      ],
      "metadata": {
        "id": "XgfkMk5gE6rp"
      }
    },
    {
      "cell_type": "markdown",
      "source": [
        "*Challenge (optional): *\n",
        "\n",
        "Draw a dotted line on the histogram to indicate the median engagement rate. First find the median engagement rate, then draw the line on the histogram."
      ],
      "metadata": {
        "id": "chNwoIrIJhBN"
      }
    },
    {
      "cell_type": "code",
      "source": [
        "# median = ...[\"...\"].median()\n",
        "# median\n",
        "\n",
        "# Answer here\n"
      ],
      "metadata": {
        "id": "eXwbxsGmLMtv"
      },
      "execution_count": null,
      "outputs": []
    },
    {
      "cell_type": "code",
      "source": [
        "plt.rcParams['figure.figsize'] = (10, 8)\n",
        "# v_line = alt.Chart(...).mark_rule(strokeDash = [6], size = 1.5).encode(\n",
        "#     x = alt.datum(...)\n",
        "# )\n",
        "\n",
        "# insta_histogram_line = ... + ...\n",
        "# ...\n",
        "\n",
        "# Answer here"
      ],
      "metadata": {
        "id": "vOoOPCAILpnh"
      },
      "execution_count": null,
      "outputs": []
    },
    {
      "cell_type": "markdown",
      "source": [
        "#### References and Datasets\n",
        "https://github.com/katieburak/girls-in-DS\n",
        "\n",
        "https://python.datasciencebook.ca/"
      ],
      "metadata": {
        "id": "qWi1jZ8S6W-w"
      }
    }
  ]
}